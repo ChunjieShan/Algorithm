{
 "cells": [
  {
   "cell_type": "code",
   "execution_count": 1,
   "metadata": {},
   "outputs": [],
   "source": [
    "#!/usr/bin/python3\n",
    "# -*- coding: utf8 -*-\n",
    "\n",
    "import cv2\n",
    "import tensorflow as tf\n",
    "import numpy as np"
   ]
  },
  {
   "cell_type": "code",
   "execution_count": 10,
   "metadata": {},
   "outputs": [],
   "source": [
    "CATEGORIES = [\"万用表\", \"示波器\", \"焊台\"]  # will use this to convert prediction num to string value\n",
    "\n",
    "\n",
    "def prepare(filepath):\n",
    "    IMG_SIZE = 224\n",
    "    img_array = cv2.imread(filepath)  # read in the image, convert to grayscale\n",
    "    new_array = cv2.resize(img_array, (IMG_SIZE, IMG_SIZE), 3)  # resize image to match model's expected sizing\n",
    "    return new_array.reshape(-1, IMG_SIZE, IMG_SIZE, 3)  # return the image with shaping that TF wants."
   ]
  },
  {
   "cell_type": "code",
   "execution_count": 11,
   "metadata": {},
   "outputs": [],
   "source": [
    "model = tf.keras.models.load_model(\"./model_simple.h5\")"
   ]
  },
  {
   "cell_type": "code",
   "execution_count": 12,
   "metadata": {},
   "outputs": [
    {
     "name": "stdout",
     "output_type": "stream",
     "text": [
      "焊台\n",
      "焊台\n",
      "焊台\n"
     ]
    }
   ],
   "source": [
    "prediction = model.predict([prepare('../data/train/0/100Multimeter.jpg')])\n",
    "print(CATEGORIES[int(np.argmax(prediction))])\n",
    "prediction = model.predict([prepare('../data/train/1/100Oscilloscope.jpg')])\n",
    "print(CATEGORIES[int(np.argmax(prediction))])\n",
    "prediction = model.predict([prepare('../data/train/2/100Solder.jpg')])\n",
    "print(CATEGORIES[int(np.argmax(prediction))])"
   ]
  },
  {
   "cell_type": "code",
   "execution_count": 27,
   "metadata": {},
   "outputs": [
    {
     "name": "stdout",
     "output_type": "stream",
     "text": [
      "Model: \"model_14\"\n",
      "_________________________________________________________________\n",
      "Layer (type)                 Output Shape              Param #   \n",
      "=================================================================\n",
      "input_14 (InputLayer)        (None, 224, 224, 3)       0         \n",
      "_________________________________________________________________\n",
      "conv1 (Conv2D)               (None, 112, 112, 12)      336       \n",
      "_________________________________________________________________\n",
      "bn_conv1 (BatchNormalization (None, 112, 112, 12)      48        \n",
      "_________________________________________________________________\n",
      "activation_40 (Activation)   (None, 112, 112, 12)      0         \n",
      "_________________________________________________________________\n",
      "conv2 (Conv2D)               (None, 56, 56, 24)        2616      \n",
      "_________________________________________________________________\n",
      "bn_conv2 (BatchNormalization (None, 56, 56, 24)        96        \n",
      "_________________________________________________________________\n",
      "activation_41 (Activation)   (None, 56, 56, 24)        0         \n",
      "_________________________________________________________________\n",
      "conv3 (Conv2D)               (None, 28, 28, 48)        10416     \n",
      "_________________________________________________________________\n",
      "bn_conv3 (BatchNormalization (None, 28, 28, 48)        192       \n",
      "_________________________________________________________________\n",
      "activation_42 (Activation)   (None, 28, 28, 48)        0         \n",
      "_________________________________________________________________\n",
      "flatten_14 (Flatten)         (None, 37632)             0         \n",
      "_________________________________________________________________\n",
      "dense_27 (Dense)             (None, 128)               4817024   \n",
      "_________________________________________________________________\n",
      "dense_28 (Dense)             (None, 3)                 387       \n",
      "=================================================================\n",
      "Total params: 4,831,115\n",
      "Trainable params: 4,830,947\n",
      "Non-trainable params: 168\n",
      "_________________________________________________________________\n"
     ]
    }
   ],
   "source": [
    "import sys\n",
    "import cv2\n",
    "import numpy as np\n",
    "import tensorflow as tf\n",
    "import keras.backend as K\n",
    "\n",
    "from net import simpleconv3\n",
    "from PIL import Image\n",
    "from keras.preprocessing.image import img_to_array\n",
    "from keras.applications.imagenet_utils import preprocess_input\n",
    "\n",
    "image_size = (224, 224)\n",
    "batch_shape = (1, ) + image_size + (3, )\n",
    "# model_path = sys.argv[1]\n",
    "model_path = './model_simple.h5'\n",
    "\n",
    "# config = tf.compat.v1.ConfigProto(gpu_options=tf.compat.v1.GPUOptions(allow_growth=True))\n",
    "# session = tf.compat.v1.Session(config=config)\n",
    "# K.set_session(session)\n",
    "\n",
    "model = simpleconv3()\n",
    "model.load_weights(model_path, by_name=True)\n",
    "# model = tf.keras.models.load_model(model_path)\n",
    "model.summary()"
   ]
  },
  {
   "cell_type": "code",
   "execution_count": 28,
   "metadata": {},
   "outputs": [
    {
     "name": "stdout",
     "output_type": "stream",
     "text": [
      "[[0. 1. 0.]]\n"
     ]
    }
   ],
   "source": [
    "image_path = '../data/train/2/100Oscilloscope.jpg'\n",
    "# image_path = '../../../../datas/head/train/0/1left.jpg'\n",
    "img = Image.open(image_path)\n",
    "img = img_to_array(img)\n",
    "img = cv2.resize(img, image_size)\n",
    "img = np.expand_dims(img, axis=0)\n",
    "img = preprocess_input(img)\n",
    "\n",
    "result = model.predict(img, batch_size=1)\n",
    "print(result)"
   ]
  },
  {
   "cell_type": "code",
   "execution_count": null,
   "metadata": {},
   "outputs": [],
   "source": []
  }
 ],
 "metadata": {
  "kernelspec": {
   "display_name": "Python 3",
   "language": "python",
   "name": "python3"
  },
  "language_info": {
   "codemirror_mode": {
    "name": "ipython",
    "version": 3
   },
   "file_extension": ".py",
   "mimetype": "text/x-python",
   "name": "python",
   "nbconvert_exporter": "python",
   "pygments_lexer": "ipython3",
   "version": "3.8.2"
  }
 },
 "nbformat": 4,
 "nbformat_minor": 4
}
